{
 "cells": [
  {
   "cell_type": "markdown",
   "id": "7df59108-e664-4496-a347-857c49c0daf5",
   "metadata": {
    "tags": []
   },
   "source": [
    "### Intra-class correlation coefficient (ICC)\n",
    "\n",
    "In our study, we utilized the ICC value to discern rfMRI BOLD time-series features indicative of individual differences at the level of brain spontaneous variability. Specifically, we applied ICC3-1 model. \n",
    "\n",
    "A concise interpretation of this model from the paper *”[Measuring fMRI reliability with the intra-class correlation coefficient](https://pubmed.ncbi.nlm.nih.gov/19166942/)“* :\n",
    ">  by this model, ICC estimates the correlation of the subject signal intensities between sessions,modeled by a two-way ANOVA, with random subject effects and fixed session effects,**the total sum of squares is split into subject,session and error sums of squares (SST = SSR +SSC +SSE)**\n",
    "\n",
    "\n",
    "For a specific time-series features, its ICC value compuated based on following principle : \n",
    "\n",
    "* ***Input*** : a 2D numpy array, rows correspond to subjects and columns to sessions. Each matrix entry signifies a measurement (value for a given time-series feature in our context) for a particular subject during a specific session. \n",
    "\n",
    "* **ICC(3,1) = (MSR - MSE) / [MSR+(k-1)x MSE]**. with :\n",
    "    * `MSR` ：mean square for rows ; \n",
    "    * `MSC` ：mean square for columns ;\n",
    "    * `MSE` ：mean square for error ;\n",
    "    * `k`: scan times / number of repeated scans.\n",
    "\n",
    "\n",
    "\n",
    "\n",
    "\n",
    " "
   ]
  },
  {
   "cell_type": "code",
   "execution_count": 1,
   "id": "090c9171-b51e-494b-b6dd-594c2b25ab0a",
   "metadata": {},
   "outputs": [],
   "source": [
    "import os \n",
    "import numpy as np\n",
    "import sys\n",
    "sys.path.append('../utils')\n",
    "import ICC"
   ]
  },
  {
   "cell_type": "markdown",
   "id": "bc5c99cf-8fb0-437e-b90f-271a57161f58",
   "metadata": {},
   "source": [
    "\n",
    "\n",
    "**For each of the 4945 time-series features under evaluation, we computed the ICC value for each brain ROI and subsequently averaged it across the 271 investigated brain ROIs.**\n",
    "* Demo data: The feature `rms` (root-mean-square, [DN_rms](https://github.com/benfulcher/hctsa/blob/main/Operations/DN_Mean.m) from hctsa toolbox), derived from data of 100 blood-unrelated HCP-YA subjects, encompasses 271 brain ROIs across 4 rfMRI scans"
   ]
  },
  {
   "cell_type": "code",
   "execution_count": 2,
   "id": "97db065a-3a21-4e2b-8003-6f95cf9d80e2",
   "metadata": {},
   "outputs": [],
   "source": [
    "demo_data = np.load('../data/time_series_matrix/ICC_demo_feature_rms.npy')"
   ]
  },
  {
   "cell_type": "code",
   "execution_count": 3,
   "id": "c2b1f048-8d96-43f4-a43c-73294940182d",
   "metadata": {},
   "outputs": [],
   "source": [
    "whole_brain_average_icc_rms = []\n",
    "for nroi in range(271):\n",
    "    icc_per_roi = ICC.ICC3_1('rms',demo_data[:,nroi,:])\n",
    "    whole_brain_average_icc_rms.append(icc_per_roi['rms'])"
   ]
  },
  {
   "cell_type": "code",
   "execution_count": 4,
   "id": "1e97f91d-09f5-492b-8516-3c3fc60b10ec",
   "metadata": {},
   "outputs": [
    {
     "name": "stdout",
     "output_type": "stream",
     "text": [
      "feature rms: whole-brain averaged ICC : 0.677777 \n"
     ]
    }
   ],
   "source": [
    "print('feature rms: whole-brain averaged ICC : {:f} '.format(np.array(whole_brain_average_icc_rms).mean()))"
   ]
  },
  {
   "cell_type": "markdown",
   "id": "d17af989-4a72-43be-9242-432eca99ec18",
   "metadata": {},
   "source": [
    "The average whole-brain ICC values for 44 time-series features applied in our study are listed in the **Supplementary Material** of the manuscript."
   ]
  },
  {
   "cell_type": "code",
   "execution_count": null,
   "id": "ee0bfb52-7dae-4a21-b16f-4087146950f8",
   "metadata": {},
   "outputs": [],
   "source": []
  }
 ],
 "metadata": {
  "kernelspec": {
   "display_name": "Python [conda env:root]",
   "language": "python",
   "name": "conda-root-py"
  },
  "language_info": {
   "codemirror_mode": {
    "name": "ipython",
    "version": 3
   },
   "file_extension": ".py",
   "mimetype": "text/x-python",
   "name": "python",
   "nbconvert_exporter": "python",
   "pygments_lexer": "ipython3",
   "version": "3.8.5"
  }
 },
 "nbformat": 4,
 "nbformat_minor": 5
}
